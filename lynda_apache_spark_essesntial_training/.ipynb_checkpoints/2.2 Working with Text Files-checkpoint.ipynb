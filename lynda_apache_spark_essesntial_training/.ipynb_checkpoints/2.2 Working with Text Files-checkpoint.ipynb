{
 "cells": [
  {
   "cell_type": "code",
   "execution_count": 1,
   "metadata": {
    "collapsed": true
   },
   "outputs": [],
   "source": [
    "%fs ls"
   ]
  },
  {
   "cell_type": "code",
   "execution_count": 2,
   "metadata": {
    "collapsed": true
   },
   "outputs": [],
   "source": [
    "%fs ls /databricks-datasets/bikeSharing/README.md"
   ]
  },
  {
   "cell_type": "code",
   "execution_count": 3,
   "metadata": {
    "collapsed": true
   },
   "outputs": [],
   "source": [
    "path = \"databricks-datasets/bikeSharing/README.md\"\n",
    "data = sc.textFile(path)# use the sc context to read in a text file\n",
    "data.count()"
   ]
  },
  {
   "cell_type": "code",
   "execution_count": 4,
   "metadata": {
    "collapsed": true
   },
   "outputs": [],
   "source": [
    "data.first()"
   ]
  },
  {
   "cell_type": "code",
   "execution_count": 5,
   "metadata": {
    "collapsed": true
   },
   "outputs": [],
   "source": [
    "data.take(20)"
   ]
  },
  {
   "cell_type": "code",
   "execution_count": 6,
   "metadata": {
    "collapsed": true
   },
   "outputs": [],
   "source": [
    "# read in file from above\n",
    "logFile = path\n",
    "\n",
    "# cache the data\n",
    "logData = sc.textFile(logFile).cache()\n",
    "\n",
    "# get number of times \"bike\" shows up\n",
    "# use lambda function and lower() to convert the line to lowercase\n",
    "# use count to figure out how many times this is true\n",
    "numBikes = logData.filter(lambda s: 'bike' in s.lower()).count()\n",
    "\n",
    "# show results\n",
    "print(\"Lines with 'bike': %i\" % (numBikes))"
   ]
  },
  {
   "cell_type": "code",
   "execution_count": 7,
   "metadata": {
    "collapsed": true
   },
   "outputs": [],
   "source": [
    "%fs ls /databricks-datasets/Rdatasets/data-001/csv/datasets/"
   ]
  },
  {
   "cell_type": "code",
   "execution_count": 8,
   "metadata": {
    "collapsed": true
   },
   "outputs": [],
   "source": [
    "# read in directory looking for anything ending in .csv\n",
    "path = \"/databricks-datasets/Rdatasets/data-001/csv/datasets/*.csv\"\n",
    "\n",
    "# use wholeTextFiles to get each file listed separately with {filename, content}\n",
    "files = sc.wholeTextFiles(path) \n",
    "\n",
    "# count how many files there are\n",
    "files.count()\n"
   ]
  },
  {
   "cell_type": "code",
   "execution_count": 9,
   "metadata": {
    "collapsed": true
   },
   "outputs": [],
   "source": [
    "# use toDF to convert object to data frame with column names\n",
    "filenames = files.toDF(['name','data'])\n",
    "\n",
    "# show entire DataFrame\n",
    "display(filenames)"
   ]
  },
  {
   "cell_type": "code",
   "execution_count": 10,
   "metadata": {
    "collapsed": true
   },
   "outputs": [],
   "source": [
    "display(filenames.select('name'))"
   ]
  },
  {
   "cell_type": "code",
   "execution_count": 11,
   "metadata": {
    "collapsed": true
   },
   "outputs": [],
   "source": []
  }
 ],
 "metadata": {
  "kernelspec": {
   "display_name": "Python 2",
   "language": "python",
   "name": "python2"
  },
  "language_info": {
   "codemirror_mode": {
    "name": "ipython",
    "version": 2
   },
   "file_extension": ".py",
   "mimetype": "text/x-python",
   "name": "python",
   "nbconvert_exporter": "python",
   "pygments_lexer": "ipython2",
   "version": "2.7.13"
  },
  "name": "2.2 Working with Text Files",
  "notebookId": 3738532980423087
 },
 "nbformat": 4,
 "nbformat_minor": 1
}
